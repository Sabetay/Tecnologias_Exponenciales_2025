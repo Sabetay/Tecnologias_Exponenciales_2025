{
 "cells": [
  {
   "cell_type": "code",
   "execution_count": 1,
   "id": "682a0eea",
   "metadata": {},
   "outputs": [],
   "source": [
    "import numpy as np"
   ]
  },
  {
   "cell_type": "markdown",
   "id": "5cba8231",
   "metadata": {},
   "source": [
    "# Simple Neural Network, hagamoslo de cero!\n",
    "\n",
    "Recuerdo: definimos X como la matriz de entradas (features) e Y como la matriz de salidas esperadas (targets)."
   ]
  },
  {
   "cell_type": "code",
   "execution_count": 2,
   "id": "18710344",
   "metadata": {},
   "outputs": [],
   "source": [
    "X = np.array([\n",
    "    [0,0,1],\n",
    "    [1,1,1],\n",
    "    [1,0,1],\n",
    "    [0,1,1]\n",
    "])\n",
    "y = np.array([[0,1,1,0]]).T # La T es para que sea una matriz columna"
   ]
  },
  {
   "cell_type": "markdown",
   "id": "e137d8f9",
   "metadata": {},
   "source": [
    "Recordemos que la cuenta de una red neuronal simple es:\n",
    "$$\n",
    "z = \\sum_{i=0}^{n} w_{i} x_i = w_0 x_0 + w_1 x_1 + ... + w_n x_n\n",
    "$$\n",
    "A eso le aplicamos una función de activación, en este caso la sigmoide.\n",
    "Nos quedaría:\n",
    "$$\n",
    "output = \\sigma(\\sum_{i=0}^{n} w_{i} x_i)"
   ]
  },
  {
   "cell_type": "markdown",
   "id": "f36cbcdd",
   "metadata": {},
   "source": [
    "Ahora hagamos esta misma cuenta pero programando :)\n",
    "Definamos las cosas que nos faltan."
   ]
  },
  {
   "cell_type": "code",
   "execution_count": 6,
   "id": "02617196",
   "metadata": {},
   "outputs": [
    {
     "name": "stdout",
     "output_type": "stream",
     "text": [
      "[[0.40522923]\n",
      " [0.49751392]\n",
      " [0.88315552]]\n",
      "El resultado de la sigmoide para 5: 0.9933071490757153\n"
     ]
    }
   ],
   "source": [
    "weights = [] # Completar. Debería ser una matriz columna con 3 filas (una por cada feature)\n",
    "weights = np.random.rand(3,1)\n",
    "print(weights)\n",
    "def sigmoid(x):\n",
    "    return 1/(1 +np.exp(-x))# Completar\n",
    "print(f\"El resultado de la sigmoide para 5: {sigmoid(5)}\")"
   ]
  },
  {
   "cell_type": "markdown",
   "id": "3fce06cc",
   "metadata": {},
   "source": [
    "Ahora, creamos la función de forward propagation. Fijemonos que pasa cuando la usamos con los pesos random."
   ]
  },
  {
   "cell_type": "code",
   "execution_count": 7,
   "id": "4e60c580",
   "metadata": {},
   "outputs": [
    {
     "name": "stdout",
     "output_type": "stream",
     "text": [
      "Output de la red neuronal con pesos random:\n",
      "[[0.7074757 ]\n",
      " [0.85642371]\n",
      " [0.78387367]\n",
      " [0.79909849]]\n"
     ]
    }
   ],
   "source": [
    "def forward_prop(X, weights):\n",
    "    z = np.dot(X, weights)  # Producto punto entre X y los pesos\n",
    "    output = sigmoid(z)     # Aplicar la función sigmoide\n",
    "    return output\n",
    "\n",
    "output = forward_prop(X, weights)\n",
    "print(\"Output de la red neuronal con pesos random:\")\n",
    "print(output)"
   ]
  },
  {
   "cell_type": "markdown",
   "id": "e282d9f2",
   "metadata": {},
   "source": [
    "Claramente no tiene mucho sentido... Intentemos mejorarlo!\n",
    "\n",
    "Pasos para mejorar la red neuronal:\n",
    "- Definir una función de pérdida (loss function) para medir qué tan bien lo estamos haciendo.\n",
    "- Calculo la derivada de la función de pérdida con respecto a los pesos (backpropagation).\n",
    "Esto es para saber en qué dirección ajustar los pesos (sumo o resto?)\n",
    "- Repito el proceso varias veces (epochs), ajustando los pesos en cada iteración."
   ]
  },
  {
   "cell_type": "code",
   "execution_count": 8,
   "id": "193337f6",
   "metadata": {},
   "outputs": [],
   "source": [
    "def sigmoid_derivative(x):\n",
    "    return x * (1 - x)"
   ]
  },
  {
   "cell_type": "code",
   "execution_count": 9,
   "id": "3d7ddc10",
   "metadata": {},
   "outputs": [
    {
     "name": "stdout",
     "output_type": "stream",
     "text": [
      "Pesos iniciales:\n",
      "[[0.40522923]\n",
      " [0.49751392]\n",
      " [0.88315552]]\n",
      "\n",
      " Error inicial:\n",
      "[[-0.7074757 ]\n",
      " [ 0.14357629]\n",
      " [ 0.21612633]\n",
      " [-0.79909849]]\n",
      "\n",
      " Derivada de la función sigmoide aplicada al output:\n",
      "[[0.20695384]\n",
      " [0.12296214]\n",
      " [0.16941574]\n",
      " [0.16054009]]\n",
      "\n",
      " Ajuste a aplicar a los pesos:\n",
      "[[-0.14641481]\n",
      " [ 0.01765445]\n",
      " [ 0.0366152 ]\n",
      " [-0.12828735]]\n",
      "\n",
      " Nuevos pesos después del ajuste:\n",
      "[[0.45949888]\n",
      " [0.38688102]\n",
      " [0.66272302]]\n"
     ]
    }
   ],
   "source": [
    "print(\"Pesos iniciales:\")\n",
    "print(weights)\n",
    "\n",
    "error = y - output\n",
    "print(\"\\n Error inicial:\")\n",
    "print(error)\n",
    "\n",
    "print(\"\\n Derivada de la función sigmoide aplicada al output:\")\n",
    "print(sigmoid_derivative(output))\n",
    "\n",
    "ajuste = error * sigmoid_derivative(output)\n",
    "print(\"\\n Ajuste a aplicar a los pesos:\")\n",
    "print(ajuste)\n",
    "\n",
    "weights += np.dot(X.T, ajuste)\n",
    "print(\"\\n Nuevos pesos después del ajuste:\")\n",
    "print(weights)"
   ]
  },
  {
   "cell_type": "markdown",
   "id": "b66ab901",
   "metadata": {},
   "source": [
    "**Consigna:** Hacer este mismo proceso de entrenamiento varias veces (si, es copiar y pegar el codigo de arriba en un for). Cuantas? El número de epochs.\n",
    "\n",
    "También uardarse los errores en una lista y graficarlas al final para ver como va mejorando la red neuronal!\n",
    "Recomendación: promediar los errores y tomarles valor absoluto para que no se cancelen entre sí. Esto es solo para graficar mejor\n"
   ]
  },
  {
   "cell_type": "code",
   "execution_count": 12,
   "id": "795c59f8",
   "metadata": {},
   "outputs": [
    {
     "name": "stdout",
     "output_type": "stream",
     "text": [
      "[[0.65987181]\n",
      " [0.81892822]\n",
      " [0.75440062]\n",
      " [0.74069886]]\n"
     ]
    },
    {
     "ename": "ValueError",
     "evalue": "x and y must have same first dimension, but have shapes (1,) and (5000, 4, 1)",
     "output_type": "error",
     "traceback": [
      "\u001b[1;31m---------------------------------------------------------------------------\u001b[0m",
      "\u001b[1;31mValueError\u001b[0m                                Traceback (most recent call last)",
      "Cell \u001b[1;32mIn[12], line 12\u001b[0m\n\u001b[0;32m      9\u001b[0m     \u001b[38;5;28;01mpass\u001b[39;00m\n\u001b[0;32m     10\u001b[0m \u001b[38;5;28mprint\u001b[39m(output)\n\u001b[1;32m---> 12\u001b[0m plt\u001b[38;5;241m.\u001b[39mplot(epochs, errores, marker \u001b[38;5;241m=\u001b[39m\u001b[38;5;124m\"\u001b[39m\u001b[38;5;124mo\u001b[39m\u001b[38;5;124m\"\u001b[39m, linestyle\u001b[38;5;241m=\u001b[39m \u001b[38;5;124m\"\u001b[39m\u001b[38;5;124m-\u001b[39m\u001b[38;5;124m\"\u001b[39m, color\u001b[38;5;241m=\u001b[39m\u001b[38;5;124m\"\u001b[39m\u001b[38;5;124mb\u001b[39m\u001b[38;5;124m\"\u001b[39m, label\u001b[38;5;241m=\u001b[39m\u001b[38;5;124m\"\u001b[39m\u001b[38;5;124merror por epoch\u001b[39m\u001b[38;5;124m\"\u001b[39m)\n\u001b[0;32m     13\u001b[0m plt\u001b[38;5;241m.\u001b[39mlegend()\n\u001b[0;32m     14\u001b[0m plt\u001b[38;5;241m.\u001b[39mshow()\n",
      "File \u001b[1;32mc:\\ProgramData\\anaconda3\\Lib\\site-packages\\matplotlib\\pyplot.py:3794\u001b[0m, in \u001b[0;36mplot\u001b[1;34m(scalex, scaley, data, *args, **kwargs)\u001b[0m\n\u001b[0;32m   3786\u001b[0m \u001b[38;5;129m@_copy_docstring_and_deprecators\u001b[39m(Axes\u001b[38;5;241m.\u001b[39mplot)\n\u001b[0;32m   3787\u001b[0m \u001b[38;5;28;01mdef\u001b[39;00m \u001b[38;5;21mplot\u001b[39m(\n\u001b[0;32m   3788\u001b[0m     \u001b[38;5;241m*\u001b[39margs: \u001b[38;5;28mfloat\u001b[39m \u001b[38;5;241m|\u001b[39m ArrayLike \u001b[38;5;241m|\u001b[39m \u001b[38;5;28mstr\u001b[39m,\n\u001b[1;32m   (...)\u001b[0m\n\u001b[0;32m   3792\u001b[0m     \u001b[38;5;241m*\u001b[39m\u001b[38;5;241m*\u001b[39mkwargs,\n\u001b[0;32m   3793\u001b[0m ) \u001b[38;5;241m-\u001b[39m\u001b[38;5;241m>\u001b[39m \u001b[38;5;28mlist\u001b[39m[Line2D]:\n\u001b[1;32m-> 3794\u001b[0m     \u001b[38;5;28;01mreturn\u001b[39;00m gca()\u001b[38;5;241m.\u001b[39mplot(\n\u001b[0;32m   3795\u001b[0m         \u001b[38;5;241m*\u001b[39margs,\n\u001b[0;32m   3796\u001b[0m         scalex\u001b[38;5;241m=\u001b[39mscalex,\n\u001b[0;32m   3797\u001b[0m         scaley\u001b[38;5;241m=\u001b[39mscaley,\n\u001b[0;32m   3798\u001b[0m         \u001b[38;5;241m*\u001b[39m\u001b[38;5;241m*\u001b[39m({\u001b[38;5;124m\"\u001b[39m\u001b[38;5;124mdata\u001b[39m\u001b[38;5;124m\"\u001b[39m: data} \u001b[38;5;28;01mif\u001b[39;00m data \u001b[38;5;129;01mis\u001b[39;00m \u001b[38;5;129;01mnot\u001b[39;00m \u001b[38;5;28;01mNone\u001b[39;00m \u001b[38;5;28;01melse\u001b[39;00m {}),\n\u001b[0;32m   3799\u001b[0m         \u001b[38;5;241m*\u001b[39m\u001b[38;5;241m*\u001b[39mkwargs,\n\u001b[0;32m   3800\u001b[0m     )\n",
      "File \u001b[1;32mc:\\ProgramData\\anaconda3\\Lib\\site-packages\\matplotlib\\axes\\_axes.py:1779\u001b[0m, in \u001b[0;36mAxes.plot\u001b[1;34m(self, scalex, scaley, data, *args, **kwargs)\u001b[0m\n\u001b[0;32m   1536\u001b[0m \u001b[38;5;250m\u001b[39m\u001b[38;5;124;03m\"\"\"\u001b[39;00m\n\u001b[0;32m   1537\u001b[0m \u001b[38;5;124;03mPlot y versus x as lines and/or markers.\u001b[39;00m\n\u001b[0;32m   1538\u001b[0m \n\u001b[1;32m   (...)\u001b[0m\n\u001b[0;32m   1776\u001b[0m \u001b[38;5;124;03m(``'green'``) or hex strings (``'#008000'``).\u001b[39;00m\n\u001b[0;32m   1777\u001b[0m \u001b[38;5;124;03m\"\"\"\u001b[39;00m\n\u001b[0;32m   1778\u001b[0m kwargs \u001b[38;5;241m=\u001b[39m cbook\u001b[38;5;241m.\u001b[39mnormalize_kwargs(kwargs, mlines\u001b[38;5;241m.\u001b[39mLine2D)\n\u001b[1;32m-> 1779\u001b[0m lines \u001b[38;5;241m=\u001b[39m [\u001b[38;5;241m*\u001b[39m\u001b[38;5;28mself\u001b[39m\u001b[38;5;241m.\u001b[39m_get_lines(\u001b[38;5;28mself\u001b[39m, \u001b[38;5;241m*\u001b[39margs, data\u001b[38;5;241m=\u001b[39mdata, \u001b[38;5;241m*\u001b[39m\u001b[38;5;241m*\u001b[39mkwargs)]\n\u001b[0;32m   1780\u001b[0m \u001b[38;5;28;01mfor\u001b[39;00m line \u001b[38;5;129;01min\u001b[39;00m lines:\n\u001b[0;32m   1781\u001b[0m     \u001b[38;5;28mself\u001b[39m\u001b[38;5;241m.\u001b[39madd_line(line)\n",
      "File \u001b[1;32mc:\\ProgramData\\anaconda3\\Lib\\site-packages\\matplotlib\\axes\\_base.py:296\u001b[0m, in \u001b[0;36m_process_plot_var_args.__call__\u001b[1;34m(self, axes, data, *args, **kwargs)\u001b[0m\n\u001b[0;32m    294\u001b[0m     this \u001b[38;5;241m+\u001b[39m\u001b[38;5;241m=\u001b[39m args[\u001b[38;5;241m0\u001b[39m],\n\u001b[0;32m    295\u001b[0m     args \u001b[38;5;241m=\u001b[39m args[\u001b[38;5;241m1\u001b[39m:]\n\u001b[1;32m--> 296\u001b[0m \u001b[38;5;28;01myield from\u001b[39;00m \u001b[38;5;28mself\u001b[39m\u001b[38;5;241m.\u001b[39m_plot_args(\n\u001b[0;32m    297\u001b[0m     axes, this, kwargs, ambiguous_fmt_datakey\u001b[38;5;241m=\u001b[39mambiguous_fmt_datakey)\n",
      "File \u001b[1;32mc:\\ProgramData\\anaconda3\\Lib\\site-packages\\matplotlib\\axes\\_base.py:486\u001b[0m, in \u001b[0;36m_process_plot_var_args._plot_args\u001b[1;34m(self, axes, tup, kwargs, return_kwargs, ambiguous_fmt_datakey)\u001b[0m\n\u001b[0;32m    483\u001b[0m     axes\u001b[38;5;241m.\u001b[39myaxis\u001b[38;5;241m.\u001b[39mupdate_units(y)\n\u001b[0;32m    485\u001b[0m \u001b[38;5;28;01mif\u001b[39;00m x\u001b[38;5;241m.\u001b[39mshape[\u001b[38;5;241m0\u001b[39m] \u001b[38;5;241m!=\u001b[39m y\u001b[38;5;241m.\u001b[39mshape[\u001b[38;5;241m0\u001b[39m]:\n\u001b[1;32m--> 486\u001b[0m     \u001b[38;5;28;01mraise\u001b[39;00m \u001b[38;5;167;01mValueError\u001b[39;00m(\u001b[38;5;124mf\u001b[39m\u001b[38;5;124m\"\u001b[39m\u001b[38;5;124mx and y must have same first dimension, but \u001b[39m\u001b[38;5;124m\"\u001b[39m\n\u001b[0;32m    487\u001b[0m                      \u001b[38;5;124mf\u001b[39m\u001b[38;5;124m\"\u001b[39m\u001b[38;5;124mhave shapes \u001b[39m\u001b[38;5;132;01m{\u001b[39;00mx\u001b[38;5;241m.\u001b[39mshape\u001b[38;5;132;01m}\u001b[39;00m\u001b[38;5;124m and \u001b[39m\u001b[38;5;132;01m{\u001b[39;00my\u001b[38;5;241m.\u001b[39mshape\u001b[38;5;132;01m}\u001b[39;00m\u001b[38;5;124m\"\u001b[39m)\n\u001b[0;32m    488\u001b[0m \u001b[38;5;28;01mif\u001b[39;00m x\u001b[38;5;241m.\u001b[39mndim \u001b[38;5;241m>\u001b[39m \u001b[38;5;241m2\u001b[39m \u001b[38;5;129;01mor\u001b[39;00m y\u001b[38;5;241m.\u001b[39mndim \u001b[38;5;241m>\u001b[39m \u001b[38;5;241m2\u001b[39m:\n\u001b[0;32m    489\u001b[0m     \u001b[38;5;28;01mraise\u001b[39;00m \u001b[38;5;167;01mValueError\u001b[39;00m(\u001b[38;5;124mf\u001b[39m\u001b[38;5;124m\"\u001b[39m\u001b[38;5;124mx and y can be no greater than 2D, but have \u001b[39m\u001b[38;5;124m\"\u001b[39m\n\u001b[0;32m    490\u001b[0m                      \u001b[38;5;124mf\u001b[39m\u001b[38;5;124m\"\u001b[39m\u001b[38;5;124mshapes \u001b[39m\u001b[38;5;132;01m{\u001b[39;00mx\u001b[38;5;241m.\u001b[39mshape\u001b[38;5;132;01m}\u001b[39;00m\u001b[38;5;124m and \u001b[39m\u001b[38;5;132;01m{\u001b[39;00my\u001b[38;5;241m.\u001b[39mshape\u001b[38;5;132;01m}\u001b[39;00m\u001b[38;5;124m\"\u001b[39m)\n",
      "\u001b[1;31mValueError\u001b[0m: x and y must have same first dimension, but have shapes (1,) and (5000, 4, 1)"
     ]
    },
    {
     "data": {
      "image/png": "[encoded data removed]",
      "text/plain": [
       "<Figure size 640x480 with 1 Axes>"
      ]
     },
     "metadata": {},
     "output_type": "display_data"
    }
   ],
   "source": [
    "import matplotlib.pyplot as plt\n",
    "epochs = 5000\n",
    "errores = []\n",
    "\n",
    "for epoch in range(epochs):\n",
    "    z = np.dot(X, weights)  # Producto punto entre X y los pesos\n",
    "    output = sigmoid(z)     # Aplicar la función sigmoide\n",
    "    errores.append(y - output)\n",
    "    pass\n",
    "print(output)\n",
    "\n",
    "plt.plot(epochs, errores, marker =\"o\", linestyle= \"-\", color=\"b\", label=\"error por epoch\")\n",
    "plt.legend()\n",
    "plt.show()\n",
    "    # Completar"
   ]
  },
  {
   "cell_type": "markdown",
   "id": "570ed567",
   "metadata": {},
   "source": [
    "Veamos cómo quedaron los pesos finales\n",
    "\n",
    "Consigna: Escriban por que les parece que puede tener sentido que esos sean los pesos finales. (Miren el input y el output original)"
   ]
  },
  {
   "cell_type": "code",
   "execution_count": null,
   "id": "87ef6bbd",
   "metadata": {},
   "outputs": [],
   "source": [
    "print(\"Pesos finales después del entrenamiento:\")\n",
    "print(weights)"
   ]
  },
  {
   "cell_type": "markdown",
   "id": "f4ff1df3",
   "metadata": {},
   "source": [
    "Les dejo un código para graficar la red neuronal con los pesos finales."
   ]
  },
  {
   "cell_type": "code",
   "execution_count": null,
   "id": "fb92baee",
   "metadata": {},
   "outputs": [],
   "source": [
    "import matplotlib.pyplot as plt\n",
    "import networkx as nx\n",
    "import itertools\n",
    "G = nx.DiGraph()\n",
    "layers = [[0, 1, 2], [3]]\n",
    "\n",
    "rels = list(itertools.product(*layers))\n",
    "#rels.append((3, 4))\n",
    "flatten = lambda l: [x for i in l for x in i]\n",
    "\n",
    "labels = {i: v for i, v in enumerate(X[1])}\n",
    "labels[3] = round(forward_prop(X[1], weights)[0], 3)\n",
    "#labels[4] = 0 if res < thresh else 1\n",
    "\n",
    "pos = {}\n",
    "m = max([len(l) for l in layers])\n",
    "for i, l in enumerate(layers):\n",
    "  for j, v in enumerate(l):\n",
    "    pos[v] = (i, len(l) - j)\n",
    "\n",
    "pos[3] = (pos[3][0], pos[1][1])\n",
    "#pos[4] = (pos[3][0] + 1, pos[1][1])\n",
    "\n",
    "weights_labels = {(ra, rb): \"{:0.3f}\".format(weights[i][0]) for i, (ra, rb) in enumerate(rels)}\n",
    "G.add_edges_from(rels)\n",
    "\n",
    "options = {\n",
    "    \"font_size\": 16,\n",
    "    \"node_size\": 3000,\n",
    "    \"node_color\": [(1, 1, 1, 1) for _ in range(len(labels))],\n",
    "    \"edgecolors\": \"black\",\n",
    "    \"linewidths\": 3,\n",
    "    \"width\": 3,\n",
    "    \"labels\": labels,\n",
    "    \"connectionstyle\": \"arc3, rad=0\",\n",
    "}\n",
    "\n",
    "nx.draw_networkx(G, pos, **options)\n",
    "\n",
    "nx.draw_networkx_edge_labels(\n",
    "    G, pos,\n",
    "    edge_labels=weights_labels,\n",
    "    font_color='black',\n",
    "    font_size=16, \n",
    "    font_weight='bold'\n",
    ")\n",
    "\n",
    "plt.axis('off')\n",
    "ax = plt.gca()\n",
    "ax.margins(0.20)\n",
    "plt.show()"
   ]
  },
  {
   "cell_type": "markdown",
   "id": "dc3cabd8",
   "metadata": {},
   "source": [
    "**Última consigna**: Prueben algunos ejemplos nuevos, que no estén en el dataset original, y vean qué predice la red neuronal "
   ]
  },
  {
   "cell_type": "markdown",
   "id": "3b6948e4",
   "metadata": {},
   "source": [
    "**Consigna bastante manija**: Agreguen una capa oculta a la red neuronal."
   ]
  }
 ],
 "metadata": {
  "kernelspec": {
   "display_name": "base",
   "language": "python",
   "name": "python3"
  },
  "language_info": {
   "codemirror_mode": {
    "name": "ipython",
    "version": 3
   },
   "file_extension": ".py",
   "mimetype": "text/x-python",
   "name": "python",
   "nbconvert_exporter": "python",
   "pygments_lexer": "ipython3",
   "version": "3.12.7"
  }
 },
 "nbformat": 4,
 "nbformat_minor": 5
}
